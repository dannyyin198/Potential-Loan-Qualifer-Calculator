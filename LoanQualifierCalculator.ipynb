{
  "nbformat": 4,
  "nbformat_minor": 0,
  "metadata": {
    "colab": {
      "provenance": []
    },
    "kernelspec": {
      "name": "python3",
      "display_name": "Python 3"
    },
    "language_info": {
      "name": "python"
    }
  },
  "cells": [
    {
      "cell_type": "code",
      "execution_count": null,
      "metadata": {
        "colab": {
          "base_uri": "https://localhost:8080/"
        },
        "id": "x5usTdu4maaX",
        "outputId": "e1b9b580-dcf0-4f39-83a4-c06efa58bf33"
      },
      "outputs": [
        {
          "output_type": "stream",
          "name": "stdout",
          "text": [
            "Potential Borrower: Danny Yin is currently seeking a loan. His current Employement Status is (Full-Time).\n",
            "Client have a creditscore of (Very Good-780). The Borrower creditscore qualify for FHA loan.\n",
            "Interest rate for this loan is 0.04, while current market interest rate is 0.09\n"
          ]
        }
      ],
      "source": [
        "#Potential Borrower Calculator\n",
        "\n",
        "class Borrower:\n",
        "  def __init__(self,firstname,lastname,income,employment):\n",
        "    self.firstname = firstname\n",
        "    self.lastname = lastname\n",
        "    self.income = income\n",
        "    self.employment = employment\n",
        "\n",
        "  def fullname(self):\n",
        "    return f\"{self.firstname} {self.lastname}\"\n",
        "\n",
        "\n",
        "\n",
        "  def __str__(self):\n",
        "    return f\"Potential Borrower: {self.fullname()} is currently seeking a loan. His current Employement Status is ({self.employment}).\"\n",
        "\n",
        "class Loan:\n",
        "  FHAmincreditscore = 600\n",
        "  Convmincreditscore = 700\n",
        "  VAmincreditscore = 300\n",
        "\n",
        "  def __init__(self,loanamount,loantype,loanterm,purpose,creditscore):\n",
        "\n",
        "    self.loanamount = loanamount\n",
        "    self.loantype = loantype\n",
        "    self.loanterm = loanterm\n",
        "    self.purpose = purpose\n",
        "    self.creditscore = creditscore\n",
        "\n",
        "  def CreditscoreEval(self):\n",
        "    if self.creditscore >= 300 and self.creditscore <= 579:\n",
        "      return 'Poor'\n",
        "    elif self.creditscore >= 580 and self.creditscore <= 669:\n",
        "      return 'Fair'\n",
        "    elif self.creditscore >= 670 and self.creditscore <= 739: \n",
        "      return 'Good'\n",
        "    elif self.creditscore >= 740 and self.creditscore <= 799:\n",
        "      return 'Very Good'\n",
        "    elif self.creditscore >= 800 and self.creditscore <= 850:\n",
        "      return 'Excellent'\n",
        "    else:\n",
        "      return 'Below 300'\n",
        "\n",
        "  def LoanEval(self):\n",
        "    if self.creditscore >= Loan.FHAmincreditscore and self.loantype == 'FHA':\n",
        "      return 'Borrower creditscore qualify for FHA loan'\n",
        "    elif self.creditscore < Loan.FHAmincreditscore and self.loantype == 'FHA':\n",
        "      return 'Borrower creditscore does not qualify for FHA loan'\n",
        "    elif self.creditscore >= Loan.Conventionalmincreditscore and self.loantype == 'Conv':\n",
        "      return 'Borrower creditscore qualify for Conv loan'\n",
        "    elif self.creditscore < Loan.Conventionalmincreditscore and self.loantype == 'Conv':\n",
        "      return 'Borrower creditscore does not qualify for Conv loan'\n",
        "    elif self.creditscore >= Loan.VAmincreditscore and self.loantype == 'VA':\n",
        "      return 'Borrower creditscore qualify for VA loan'\n",
        "    elif self.creditscore < Loan.VAmincreditscore and self.loantype == 'VA':\n",
        "      return 'Borrower creditscore does not qualify for VA loan'\n",
        "    else:\n",
        "      return 'Qualify for no loans. Please type in loan type if not entered'\n",
        "\n",
        "\n",
        "  def __str__(self):\n",
        "    return f\"Client have a creditscore of ({self.CreditscoreEval()}-{self.creditscore}). The {self.LoanEval()}.\"\n",
        "\n",
        "class interestrate:\n",
        "  marketinterest = 0.09\n",
        "  def __init__(self,interestrate):\n",
        "    self.interestrate = interestrate\n",
        "  def __str__(self):\n",
        "    return f\"Interest rate for this loan is {interestrate1.interestrate}, while current market interest rate is {interestrate.marketinterest}\"\n",
        "\n",
        "Borrower1 = Borrower('Danny','Yin',120000,'Full-Time')\n",
        "Loan1 = Loan(800000,'FHA',30,'Home Purchase',780)\n",
        "interestrate1 = interestrate(0.04)\n",
        "\n",
        "print(Borrower1)\n",
        "print(Loan1)\n",
        "print(interestrate1)\n"
      ]
    },
    {
      "cell_type": "code",
      "source": [
        "print(Borrower1)"
      ],
      "metadata": {
        "colab": {
          "base_uri": "https://localhost:8080/"
        },
        "id": "3tKute1wqoqB",
        "outputId": "cb76dbaa-b9ab-4709-fe57-fa88937d055a"
      },
      "execution_count": null,
      "outputs": [
        {
          "output_type": "stream",
          "name": "stdout",
          "text": [
            "Danny Yin\n"
          ]
        }
      ]
    }
  ]
}